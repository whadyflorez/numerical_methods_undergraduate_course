{
  "nbformat": 4,
  "nbformat_minor": 0,
  "metadata": {
    "colab": {
      "provenance": []
    },
    "kernelspec": {
      "name": "python3",
      "display_name": "Python 3"
    },
    "language_info": {
      "name": "python"
    }
  },
  "cells": [
    {
      "cell_type": "code",
      "execution_count": 14,
      "metadata": {
        "colab": {
          "base_uri": "https://localhost:8080/"
        },
        "id": "jRj7k17212x7",
        "outputId": "82947994-f862-4536-e27c-6877050ab151"
      },
      "outputs": [
        {
          "output_type": "stream",
          "name": "stdout",
          "text": [
            "1.0 -1.0 0.0\n",
            "[[ 1.    2.    2.5 ]\n",
            " [ 0.   -1.7   4.2 ]\n",
            " [ 1.    1.01 -1.  ]] 10.108\n",
            "10.108000000000002\n",
            "[ 1.44766522 -0.34626039  0.09794222]\n"
          ]
        }
      ],
      "source": [
        "#example basic tensors and determinants levi civita symbol\n",
        "import numpy as np\n",
        "\n",
        "tau=np.array([[1.0,2.0,2.5],[0.0,-1.7,4.2],[1.0,1.01,-1]])\n",
        "b=np.array([1.0,1.0,1.0])\n",
        "\n",
        "def levisym(ind):\n",
        "  epsi=0.0\n",
        "  if ind==(0,1,2) or ind==(1,2,0) or ind==(2,0,1):\n",
        "    epsi=1.0\n",
        "  if ind==(2,1,0) or ind==(0,2,1) or ind==(1,0,2):\n",
        "    epsi=-1.0\n",
        "  return epsi\n",
        "\n",
        "print(levisym((0,1,2)),levisym((0,2,1)),levisym((0,0,1)))\n",
        "\n",
        "def det(T):\n",
        "  s=0.0\n",
        "  for i in range(3):\n",
        "    for j in range(3):\n",
        "      for k in range(3):\n",
        "        s+=levisym((i,j,k))*T[0,i]*T[1,j]*T[2,k]\n",
        "  return s\n",
        "\n",
        "print(tau,det(tau))\n",
        "\n",
        "print(np.linalg.det(tau))\n",
        "\n",
        "x=np.linalg.solve(tau,b)\n",
        "print(x)"
      ]
    }
  ]
}